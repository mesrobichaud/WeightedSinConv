{
 "cells": [
  {
   "cell_type": "markdown",
   "metadata": {},
   "source": [
    "# Model testing, metrics"
   ]
  },
  {
   "cell_type": "code",
   "execution_count": 26,
   "metadata": {},
   "outputs": [],
   "source": [
    "import os\n",
    "import context\n",
    "import loader \n",
    "from loader import guide_function\n",
    "import numpy as np\n",
    "from matplotlib import pyplot as plt\n",
    "from harmonic import cluster\n",
    "from harmonic.unet import UNet,eUNet, nUNet, aUNet\n",
    "from harmonic.sq_unet import UNet as USN\n",
    "from harmonic.unet import bUNet\n",
    "from harmonic.embeddings import *\n",
    "from torch.utils.data import DataLoader\n",
    "\n",
    "device = torch.device(\"cuda\" if torch.cuda.is_available() else \"cpu\")"
   ]
  },
  {
   "cell_type": "markdown",
   "metadata": {},
   "source": [
    "# 1. Import data"
   ]
  },
  {
   "cell_type": "code",
   "execution_count": 9,
   "metadata": {},
   "outputs": [],
   "source": [
    "HeLa_9 = loader.hela('data/HeLa_01_ST/HeLaTrain',test=True)\n",
    "plants = loader.cvppp('data/A1',test=True)"
   ]
  },
  {
   "cell_type": "code",
   "execution_count": 14,
   "metadata": {},
   "outputs": [],
   "source": [
    "c = HeLa_9\n",
    "# HELA\n",
    "train_data = loader.Reader(c.rgb, c.labels, c.edges, \n",
    "                           c.transform, c.transform_target,loader=loader.gray_loader,\n",
    "                            targ_loader = True)\n",
    "# CVPPP \n",
    "train_data = loader.Reader(c.rgb, c.labels, c.edges, \n",
    "                           c.transform, c.transform_target)\n",
    "generator = DataLoader(train_data, batch_size=1, shuffle=True, num_workers=0)"
   ]
  },
  {
   "cell_type": "markdown",
   "metadata": {},
   "source": [
    "## 1.1 Load Harmonics"
   ]
  },
  {
   "cell_type": "markdown",
   "metadata": {},
   "source": [
    "## HeLa"
   ]
  },
  {
   "cell_type": "markdown",
   "metadata": {},
   "source": [
    "###  Sine functions "
   ]
  },
  {
   "cell_type": "code",
   "execution_count": 29,
   "metadata": {},
   "outputs": [],
   "source": [
    "sins = [[-7.375255107879639, 5.203563690185547, 45.27313232421875],\n",
    " [-7.378573417663574, -1.9893327951431274, 20.848262786865234],\n",
    " [-7.0850653648376465, -2.456326961517334, 41.53719711303711],\n",
    " [11.45650577545166, -2.489238739013672, 31.25278091430664],\n",
    " [-1.703177571296692, -6.168859958648682, 5.964511394500732],\n",
    " [11.166621208190918, 5.2173919677734375, 38.755393981933594],\n",
    " [-0.6013728380203247, 12.734735488891602, 3.7188491821289062],\n",
    " [6.044683933258057, 12.558919906616211, 52.94304656982422],\n",
    " [5.92817497253418, -0.7977170944213867, 54.80228805541992],\n",
    " [-0.38155657052993774, 23.551265716552734, 35.34095001220703],\n",
    " [1.972337245941162, 5.383609294891357, 46.41643524169922],\n",
    " [4.012279033660889, -4.179959774017334, 35.26789093017578]]\n",
    "\n",
    "sins = np.array(sins)\n",
    "guides = guide_function(sins[:,0],sins[:,1],sins[:,2],448,448)"
   ]
  },
  {
   "cell_type": "markdown",
   "metadata": {},
   "source": [
    "### Square harmonics"
   ]
  },
  {
   "cell_type": "code",
   "execution_count": 111,
   "metadata": {},
   "outputs": [],
   "source": [
    "from sq_embeddings import Embedding as Embsquare\n",
    "sins = [[-13.559544563293457,\n",
    "  -2.203810453414917,\n",
    "  21.30968475341797,\n",
    "  0.9219708442687988],\n",
    " [-22.703413009643555,\n",
    "  -0.37252742052078247,\n",
    "  10.278214454650879,\n",
    "  0.999194860458374],\n",
    " [6.941484451293945,\n",
    "  -2.721510410308838,\n",
    "  44.56106948852539,\n",
    "  0.9472301602363586],\n",
    " [7.547652721405029, 0.9692023992538452, 39.369895935058594, 1.0],\n",
    " [-14.903787612915039,\n",
    "  -1.0364874601364136,\n",
    "  4.260854721069336,\n",
    "  0.9993869066238403],\n",
    " [-2.7566463947296143,\n",
    "  4.760617256164551,\n",
    "  5.812931060791016,\n",
    "  0.9590798020362854],\n",
    " [1.0290216207504272, 5.537593841552734, 15.82655143737793, 1.0],\n",
    " [-0.4228498339653015,\n",
    "  -12.698473930358887,\n",
    "  8.141501426696777,\n",
    "  0.9982108473777771],\n",
    " [0.3880113661289215, -13.395278930664062, 4.083737373352051, 1.0],\n",
    " [6.361560344696045, -6.721468925476074, 47.4748649597168, 0.4803535044193268],\n",
    " [-0.31598857045173645,\n",
    "  24.429262161254883,\n",
    "  22.79106903076172,\n",
    "  0.9727568030357361],\n",
    " [3.190713405609131, 5.624609470367432, 21.73563003540039, 0.9920406937599182]]\n",
    "\n",
    "emb2 = Embsquare(sins,[448, 448])\n",
    "input = torch.zeros(1,1,448,448)\n",
    "\n",
    "guides = []\n",
    "for i in range(12):\n",
    "    guides.append(emb2.sins[i].generate_xy(input).detach().squeeze(0).squeeze(0).numpy())\n",
    "guides = torch.tensor(np.array(guides))"
   ]
  },
  {
   "cell_type": "markdown",
   "metadata": {},
   "source": [
    "## CVPPP"
   ]
  },
  {
   "cell_type": "markdown",
   "metadata": {},
   "source": [
    "### Load Harmonics"
   ]
  },
  {
   "cell_type": "code",
   "execution_count": 139,
   "metadata": {},
   "outputs": [],
   "source": [
    "sins = [[-24.22295570373535, 0.0, 0.4452361464500427],\n",
    " [-14.779047012329102, 0.0, 1.2561423778533936],\n",
    " [-16.399198532104492, 0.0, -0.3734317719936371],\n",
    " [18.362571716308594, 0.0, 0.7659217715263367],\n",
    " [-0.6603534817695618, 0.0, 0.24005144834518433],\n",
    " [-33.7341423034668, 0.0, -0.4350433051586151],\n",
    " [0.0, 4.286965370178223, 0.8109257817268372],\n",
    " [0.0, -19.908288955688477, 0.614355206489563],\n",
    " [0.0, 22.987812042236328, 0.28104516863822937],\n",
    " [0.0, 7.108828067779541, 0.4827950894832611],\n",
    " [0.0, 23.66850471496582, 0.21264752745628357],\n",
    " [0.0, -22.332250595092773, 1.0007625818252563]]\n",
    "\n",
    "sins = np.array(sins)\n",
    "guides = guide_function(sins[:,0],sins[:,1],sins[:,2],448,448)"
   ]
  },
  {
   "cell_type": "markdown",
   "metadata": {},
   "source": [
    "# 2. Load Model"
   ]
  },
  {
   "cell_type": "code",
   "execution_count": 18,
   "metadata": {},
   "outputs": [],
   "source": [
    "bpath = 'models/hela'"
   ]
  },
  {
   "cell_type": "markdown",
   "metadata": {},
   "source": [
    "a) No weighted loss"
   ]
  },
  {
   "cell_type": "code",
   "execution_count": 20,
   "metadata": {},
   "outputs": [
    {
     "name": "stdout",
     "output_type": "stream",
     "text": [
      "Loading\n",
      "Model loaded.\n"
     ]
    }
   ],
   "source": [
    "net = aUNet(1, sins).to(device)\n",
    "optim = torch.optim.Adam(net.parameters(),lr=1e-5)\n",
    "embedder = EmbedderFast(guides.to(device),weights_norm=log_weights_norm(10.))\n",
    "\n",
    "if os.path.exists(bpath + '_base0_ckp0.t7'):\n",
    "    print('Loading')\n",
    "    data = torch.load(bpath + '_base0_ckp0.t7',map_location=torch.device('cpu'))\n",
    "    net.load_state_dict(data['model_state_dict'])#,strict=False)\n",
    "    optim.load_state_dict(data['optimizer_state_dict'])\n",
    "    errors0 = data['error']\n",
    "    net.eval()\n",
    "    print(\"Model loaded.\")"
   ]
  },
  {
   "cell_type": "markdown",
   "metadata": {},
   "source": [
    "b) Edge width of 5 (same as Harmonic Embbeddings)"
   ]
  },
  {
   "cell_type": "code",
   "execution_count": 21,
   "metadata": {},
   "outputs": [
    {
     "name": "stdout",
     "output_type": "stream",
     "text": [
      "Loading\n",
      "Model loaded.\n"
     ]
    }
   ],
   "source": [
    "net = aUNet(1, sins).to(device)\n",
    "optim = torch.optim.Adam(net.parameters(),lr=1e-5)\n",
    "embedder = EmbedderFast(guides.to(device),weights_norm=log_weights_norm(10.))\n",
    "\n",
    "if os.path.exists(bpath + '_base3_ckp0.t7'):\n",
    "    print('Loading')\n",
    "    data = torch.load(bpath + '_base3_ckp0.t7',map_location=torch.device('cpu'))\n",
    "    net.load_state_dict(data['model_state_dict'])#,strict=False)\n",
    "    optim.load_state_dict(data['optimizer_state_dict'])\n",
    "    errors5 = data['error']\n",
    "    net.eval()\n",
    "    print(\"Model loaded.\")"
   ]
  },
  {
   "cell_type": "markdown",
   "metadata": {},
   "source": [
    "a) Edge width of 10"
   ]
  },
  {
   "cell_type": "code",
   "execution_count": 25,
   "metadata": {},
   "outputs": [
    {
     "name": "stdout",
     "output_type": "stream",
     "text": [
      "Loading\n",
      "Model loaded.\n"
     ]
    }
   ],
   "source": [
    "net = aUNet(1, sins).to(device)\n",
    "optim = torch.optim.Adam(net.parameters(),lr=1e-5)\n",
    "embedder = EmbedderFast(guides.to(device),weights_norm=log_weights_norm(10.))\n",
    "\n",
    "if os.path.exists(bpath + '_base10_ckp0.t7'):\n",
    "    print('Loading')\n",
    "    data = torch.load(bpath + '_base10_ckp0.t7',map_location=torch.device('cpu'))\n",
    "    net.load_state_dict(data['model_state_dict'])#,strict=False)\n",
    "    optim.load_state_dict(data['optimizer_state_dict'])\n",
    "    errors10 = data['error']\n",
    "    net.eval()\n",
    "    print(\"Model loaded.\")"
   ]
  },
  {
   "cell_type": "code",
   "execution_count": 23,
   "metadata": {},
   "outputs": [
    {
     "name": "stdout",
     "output_type": "stream",
     "text": [
      "Loading\n",
      "Model loaded.\n"
     ]
    }
   ],
   "source": [
    "net = aUNet(1, sins).to(device)\n",
    "optim = torch.optim.Adam(net.parameters(),lr=1e-5)\n",
    "embedder = EmbedderFast(guides.to(device),weights_norm=log_weights_norm(10.))\n",
    "\n",
    "if os.path.exists(bpath + '_basew_ckp0.t7'):\n",
    "    print('Loading')\n",
    "    data = torch.load(bpath + '_basew_ckp0.t7',map_location=torch.device('cpu'))\n",
    "    net.load_state_dict(data['model_state_dict'])#,strict=False)\n",
    "    optim.load_state_dict(data['optimizer_state_dict'])\n",
    "    errorsw = data['error']\n",
    "    net.eval()\n",
    "    print(\"Model loaded.\")"
   ]
  },
  {
   "cell_type": "markdown",
   "metadata": {},
   "source": [
    "# Plant Phenotyping"
   ]
  },
  {
   "cell_type": "code",
   "execution_count": 138,
   "metadata": {},
   "outputs": [],
   "source": [
    "bpath = 'models/cvppp'"
   ]
  },
  {
   "cell_type": "markdown",
   "metadata": {},
   "source": [
    "### Load Model"
   ]
  },
  {
   "cell_type": "code",
   "execution_count": 140,
   "metadata": {},
   "outputs": [
    {
     "name": "stdout",
     "output_type": "stream",
     "text": [
      "Loading\n",
      "Model loaded\n"
     ]
    }
   ],
   "source": [
    "net = torch.nn.DataParallel(UNet(3, sins), [0]).to(device)\n",
    "optim = torch.optim.Adam(net.parameters(),lr=1e-5)\n",
    "embedder = EmbedderFast(guides.to(device),weights_norm=log_weights_norm(10.))\n",
    "\n",
    "if os.path.exists('cvppp' + '_ckp3.t7'):\n",
    "    print('Loading')\n",
    "    data = torch.load('cvppp' + '_ckp3.t7',map_location=torch.device('cpu'))\n",
    "    net.load_state_dict(data['model_state_dict'])#,strict=False)\n",
    "    optim.load_state_dict(data['optimizer_state_dict'])\n",
    "\n",
    "net.eval()\n",
    "print(\"Model loaded\")"
   ]
  },
  {
   "cell_type": "markdown",
   "metadata": {},
   "source": [
    "Custom Pretraining "
   ]
  },
  {
   "cell_type": "code",
   "execution_count": 86,
   "metadata": {},
   "outputs": [],
   "source": [
    "trained_dict = data['model_state_dict']\n",
    "# Using items() + list comprehension\n",
    "# Substring Key match in dictionary\n",
    "res = dict(filter(lambda item: 'module.down' not in item[0], trained_dict.items()))\n",
    "res = dict(filter(lambda item: 'module.outc' not in item[0], res.items()))"
   ]
  },
  {
   "cell_type": "markdown",
   "metadata": {},
   "source": [
    "# 3. Testing Protocol"
   ]
  },
  {
   "cell_type": "markdown",
   "metadata": {},
   "source": [
    "### 1. Data generator"
   ]
  },
  {
   "cell_type": "code",
   "execution_count": 125,
   "metadata": {},
   "outputs": [],
   "source": [
    "HeLa_test = loader.hela('data/HeLa_01_ST/HeLaTest',test=True)\n",
    "c = HeLa_test\n",
    "test_data = loader.Reader(c.rgb, c.labels, c.edges, \n",
    "                           c.transform, c.transform_target,loader=loader.gray_loader)\n",
    "generator = DataLoader(test_data, batch_size=1, shuffle=True, num_workers=0)"
   ]
  },
  {
   "cell_type": "markdown",
   "metadata": {},
   "source": [
    "### 2. Metrics"
   ]
  },
  {
   "cell_type": "code",
   "execution_count": 126,
   "metadata": {},
   "outputs": [
    {
     "name": "stdout",
     "output_type": "stream",
     "text": [
      "Done\n"
     ]
    }
   ],
   "source": [
    "bdscore = []\n",
    "ious = []\n",
    "dic = []\n",
    "for x,y,z in generator:\n",
    "    emb = net(x.to(device)).detach().cpu().numpy()\n",
    "    cc = cluster(emb[0],0.6,minimal_area=1000)\n",
    "    \n",
    "    xx = np.array(cc,dtype='int')\n",
    "    yy = y.squeeze(0).squeeze(0).int().numpy()\n",
    "    \n",
    "    bdscore.append(accuracy(xx,yy,Dice))\n",
    "    ious.append(accuracy(xx,yy,IOU))\n",
    "    dic.append(DiC(xx,yy))\n",
    "print('Done')"
   ]
  },
  {
   "cell_type": "code",
   "execution_count": 351,
   "metadata": {},
   "outputs": [],
   "source": [
    "base_weight = {'BDC' : 0.8000,\n",
    "          'IOU':0.7160,\n",
    "            'DiC':1.1111} ## MR \n",
    "\n",
    "base_5 = {'BDC' : 0.7648,\n",
    "          'IOU':0.6852,\n",
    "            'DiC':1.6666} ## MR \n",
    "\n",
    "base_10 = {'BDC' : 0.7449,\n",
    "          'IOU':0.6506,\n",
    "            'DiC':2.0} ## MR \n",
    "\n",
    "base_0 = {'BDC' : 0.741,\n",
    "          'IOU':0.661,\n",
    "            'DiC':1.7777} ## MR"
   ]
  },
  {
   "cell_type": "code",
   "execution_count": 134,
   "metadata": {},
   "outputs": [
    {
     "data": {
      "image/png": "[encoded data removed]",
      "text/plain": [
       "<Figure size 720x360 with 3 Axes>"
      ]
     },
     "metadata": {
      "needs_background": "light"
     },
     "output_type": "display_data"
    }
   ],
   "source": [
    "plt.figure(figsize=[10,5])\n",
    "img1 = Image.open('data/HeLa_01_ST/HeLaTrain/edges5/031_edge.png')\n",
    "img2 = Image.open('data/HeLa_01_ST/HeLaTrain/edges10/031_edge.png')\n",
    "img3 = Image.open(HeLa_9.edges[3])\n",
    "plt.subplot(131)\n",
    "plt.imshow(img1)#,cmap='gray')\n",
    "plt.xlabel('Width: 5')\n",
    "plt.subplot(132)\n",
    "plt.imshow(img2)#,cmap='gray')\n",
    "plt.xlabel('Width: 10')\n",
    "plt.subplot(133)\n",
    "plt.imshow(img3)#,cmap='gray')\n",
    "plt.xlabel('Weight Map, $\\sigma$:10')\n",
    "plt.savefig('Report/img/borders.png',format='png')"
   ]
  },
  {
   "cell_type": "markdown",
   "metadata": {},
   "source": [
    "### Pixel Areas of the Maps "
   ]
  },
  {
   "cell_type": "code",
   "execution_count": 169,
   "metadata": {},
   "outputs": [],
   "source": [
    "from os import listdir\n",
    "from os.path import join\n",
    "import PIL.Image as Image\n",
    "\n",
    "map_5 = 'data/HeLa_01_ST/HeLaTrain/edges5'\n",
    "map_10 =  'data/HeLa_01_ST/HeLaTrain/edges10'\n",
    "map_w =  'data/HeLa_01_ST/HeLaTrain/edgesw'\n",
    "\n",
    "map_5 = sorted([join(map_5, f) for f in \n",
    "                   listdir(map_5) if f.endswith('png')])\n",
    "map_10 = sorted([join(map_10, f) for f in \n",
    "                   listdir(map_10) if f.endswith('png')])\n",
    "map_w = sorted([join(map_w, f) for f in \n",
    "                   listdir(map_w) if f.endswith('png')])"
   ]
  },
  {
   "cell_type": "code",
   "execution_count": 170,
   "metadata": {},
   "outputs": [],
   "source": [
    "m5 = []\n",
    "m10 = []\n",
    "mw = []\n",
    "\n",
    "for pic in map_5:\n",
    "    img = np.array(Image.open(pic)).flatten()\n",
    "    img =  1- (len(img[img == 0]))/len(img)\n",
    "    m5.append(img)\n",
    "\n",
    "m5 = np.array(m5)\n",
    "\n",
    "for pic in map_10:\n",
    "    img = np.array(Image.open(pic)).flatten()\n",
    "    img =  1- (len(img[img == 0]))/len(img)\n",
    "    m10.append(img)\n",
    "\n",
    "m10 = np.array(m10)\n",
    "\n",
    "for pic in map_w:\n",
    "    img = np.array(Image.open(pic)).flatten()\n",
    "    img =  1- (len(img[img == 0]))/len(img)\n",
    "    mw.append(img)\n",
    "\n",
    "mw = np.array(mw)\n",
    "\n",
    "its = np.array([it for it in [m5,mw,m10]])\n",
    "means = [np.mean(it) for it in [m5,mw,m10]]\n",
    "sd = [np.std(it) for it in [m5,mw,m10]]"
   ]
  },
  {
   "cell_type": "code",
   "execution_count": 174,
   "metadata": {},
   "outputs": [
    {
     "data": {
      "image/png": "[encoded data removed]",
      "text/plain": [
       "<Figure size 432x288 with 1 Axes>"
      ]
     },
     "metadata": {
      "needs_background": "light"
     },
     "output_type": "display_data"
    }
   ],
   "source": [
    "#plt.errorbar(['$w^*$ = 5', '$w(x)$, $\\sigma$ = 10', '$w^*$ = 10'],\n",
    "         #    means,sd,linestyle='None', marker='^')\n",
    "plt.plot(['$w^*$ = 5', '$w(x)$, $\\sigma$ = 10', '$w^*$ = 10'],its,'.')\n",
    "plt.title('Pixel areas affected by weight map')\n",
    "plt.ylabel('Mean fraction of image with non-zero weight')\n",
    "plt.xlabel('Weighing method')\n",
    "plt.savefig('Report/img/weights.png',format='png')"
   ]
  },
  {
   "cell_type": "code",
   "execution_count": null,
   "metadata": {},
   "outputs": [],
   "source": []
  }
 ],
 "metadata": {
  "kernelspec": {
   "display_name": "Python 3",
   "language": "python",
   "name": "python3"
  },
  "language_info": {
   "codemirror_mode": {
    "name": "ipython",
    "version": 3
   },
   "file_extension": ".py",
   "mimetype": "text/x-python",
   "name": "python",
   "nbconvert_exporter": "python",
   "pygments_lexer": "ipython3",
   "version": "3.6.5"
  }
 },
 "nbformat": 4,
 "nbformat_minor": 4
}
